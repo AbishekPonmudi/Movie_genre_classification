{
  "cells": [
    {
      "cell_type": "markdown",
      "metadata": {
        "id": "view-in-github",
        "colab_type": "text"
      },
      "source": [
        "<a href=\"https://colab.research.google.com/github/AbishekPonmudi/Movie_genre_classification/blob/main/Movie_Recommendation_System_using_Machine_Learning_with_Python.ipynb\" target=\"_parent\"><img src=\"https://colab.research.google.com/assets/colab-badge.svg\" alt=\"Open In Colab\"/></a>"
      ]
    },
    {
      "cell_type": "markdown",
      "metadata": {
        "id": "R1oRN_iiHN_7"
      },
      "source": [
        "Importing the dependencies"
      ]
    },
    {
      "cell_type": "code",
      "execution_count": null,
      "metadata": {
        "id": "4On-pT_KBxIb"
      },
      "outputs": [],
      "source": []
    },
    {
      "cell_type": "code",
      "source": [],
      "metadata": {
        "id": "rLebCWm7E7E9"
      },
      "execution_count": null,
      "outputs": []
    },
    {
      "cell_type": "code",
      "execution_count": null,
      "metadata": {
        "id": "GAGi6hrzFLOb"
      },
      "outputs": [],
      "source": [
        "import numpy as np\n",
        "import pandas as pd\n",
        "import difflib\n",
        "from sklearn.feature_extraction.text import TfidfVectorizer\n",
        "from sklearn.metrics.pairwise import cosine_similarity"
      ]
    },
    {
      "cell_type": "markdown",
      "metadata": {
        "id": "mfIW1BYVIGfP"
      },
      "source": [
        "Data Collection and Pre-Processing"
      ]
    },
    {
      "cell_type": "code",
      "execution_count": null,
      "metadata": {
        "id": "MOXn7CGdIGBU"
      },
      "outputs": [],
      "source": [
        "movies_data = pd.read_csv('/content/movies.csv')"
      ]
    },
    {
      "cell_type": "code",
      "execution_count": null,
      "metadata": {
        "colab": {
          "base_uri": "https://localhost:8080/",
          "height": 1000
        },
        "id": "cha03lDAIa6l",
        "outputId": "eccfd9ef-03ab-45c6-ff5e-7917513f9208"
      },
      "outputs": [
        {
          "output_type": "execute_result",
          "data": {
            "text/plain": [
              "     index     budget                                    genres  \\\n",
              "0        0  237000000  Action Adventure Fantasy Science Fiction   \n",
              "1        1  300000000                  Adventure Fantasy Action   \n",
              "2        2  245000000                    Action Adventure Crime   \n",
              "3        3  250000000               Action Crime Drama Thriller   \n",
              "4        4  260000000          Action Adventure Science Fiction   \n",
              "..     ...        ...                                       ...   \n",
              "495    495   79000000          Adventure Action Science Fiction   \n",
              "496    496   78000000                   Animation Family Comedy   \n",
              "497    497   78000000                     Crime Thriller Horror   \n",
              "498    498  100000000                         Western Adventure   \n",
              "499    499   79000000                                    Comedy   \n",
              "\n",
              "                                         homepage      id  \\\n",
              "0                     http://www.avatarmovie.com/   19995   \n",
              "1    http://disney.go.com/disneypictures/pirates/     285   \n",
              "2     http://www.sonypictures.com/movies/spectre/  206647   \n",
              "3              http://www.thedarkknightrises.com/   49026   \n",
              "4            http://movies.disney.com/john-carter   49529   \n",
              "..                                            ...     ...   \n",
              "495           http://www.themysteriousisland.com/   72545   \n",
              "496                                           NaN  109451   \n",
              "497                                           NaN    9533   \n",
              "498                                           NaN    2023   \n",
              "499             http://www.jackandjill-movie.com/   71880   \n",
              "\n",
              "                                              keywords original_language  \\\n",
              "0    culture clash future space war space colony so...                en   \n",
              "1    ocean drug abuse exotic island east india trad...                en   \n",
              "2           spy based on novel secret agent sequel mi6                en   \n",
              "3    dc comics crime fighter terrorist secret ident...                en   \n",
              "4    based on novel mars medallion space travel pri...                en   \n",
              "..                                                 ...               ...   \n",
              "495  mission mysterious island missing person durin...                en   \n",
              "496                            inventor food scientist                en   \n",
              "497                 psychopath serial killer fbi agent                en   \n",
              "498                         horse race horse racehorse                en   \n",
              "499                               duringcreditsstinger                en   \n",
              "\n",
              "                               original_title  \\\n",
              "0                                      Avatar   \n",
              "1    Pirates of the Caribbean: At World's End   \n",
              "2                                     Spectre   \n",
              "3                       The Dark Knight Rises   \n",
              "4                                 John Carter   \n",
              "..                                        ...   \n",
              "495          Journey 2: The Mysterious Island   \n",
              "496       Cloudy with a Chance of Meatballs 2   \n",
              "497                                Red Dragon   \n",
              "498                                   Hidalgo   \n",
              "499                             Jack and Jill   \n",
              "\n",
              "                                              overview  popularity  ...  \\\n",
              "0    In the 22nd century, a paraplegic Marine is di...  150.437577  ...   \n",
              "1    Captain Barbossa, long believed to be dead, ha...  139.082615  ...   \n",
              "2    A cryptic message from Bond’s past sends him o...  107.376788  ...   \n",
              "3    Following the death of District Attorney Harve...  112.312950  ...   \n",
              "4    John Carter is a war-weary, former military ca...   43.926995  ...   \n",
              "..                                                 ...         ...  ...   \n",
              "495  Sean Anderson partners with his mom's boyfrien...   40.723459  ...   \n",
              "496  After the disastrous food storm in the first f...   41.247402  ...   \n",
              "497  Former FBI Agent Will Graham, who was once alm...   10.083905  ...   \n",
              "498  Set in 1890, this is the story of a Pony Expre...   16.759252  ...   \n",
              "499  Jack Sadelstein, a successful advertising exec...   22.132418  ...   \n",
              "\n",
              "    runtime                                   spoken_languages    status  \\\n",
              "0     162.0  [{\"iso_639_1\": \"en\", \"name\": \"English\"}, {\"iso...  Released   \n",
              "1     169.0           [{\"iso_639_1\": \"en\", \"name\": \"English\"}]  Released   \n",
              "2     148.0  [{\"iso_639_1\": \"fr\", \"name\": \"Fran\\u00e7ais\"},...  Released   \n",
              "3     165.0           [{\"iso_639_1\": \"en\", \"name\": \"English\"}]  Released   \n",
              "4     132.0           [{\"iso_639_1\": \"en\", \"name\": \"English\"}]  Released   \n",
              "..      ...                                                ...       ...   \n",
              "495    94.0           [{\"iso_639_1\": \"en\", \"name\": \"English\"}]  Released   \n",
              "496    95.0           [{\"iso_639_1\": \"en\", \"name\": \"English\"}]  Released   \n",
              "497   124.0           [{\"iso_639_1\": \"en\", \"name\": \"English\"}]  Released   \n",
              "498   136.0           [{\"iso_639_1\": \"en\", \"name\": \"English\"}]  Released   \n",
              "499    91.0           [{\"iso_639_1\": \"en\", \"name\": \"English\"}]  Released   \n",
              "\n",
              "                                               tagline  \\\n",
              "0                          Enter the World of Pandora.   \n",
              "1       At the end of the world, the adventure begins.   \n",
              "2                                A Plan No One Escapes   \n",
              "3                                      The Legend Ends   \n",
              "4                 Lost in our world, found in another.   \n",
              "..                                                 ...   \n",
              "495   Believe the Impossible. Discover the Incredible.   \n",
              "496                        Something big was leftover.   \n",
              "497                                Before the Silence.   \n",
              "498                     Unbridled. Unbroken. Unbeaten.   \n",
              "499  His twin sister is coming for the holidays... ...   \n",
              "\n",
              "                                        title vote_average vote_count  \\\n",
              "0                                      Avatar          7.2      11800   \n",
              "1    Pirates of the Caribbean: At World's End          6.9       4500   \n",
              "2                                     Spectre          6.3       4466   \n",
              "3                       The Dark Knight Rises          7.6       9106   \n",
              "4                                 John Carter          6.1       2124   \n",
              "..                                        ...          ...        ...   \n",
              "495          Journey 2: The Mysterious Island          5.8       1030   \n",
              "496       Cloudy with a Chance of Meatballs 2          6.4        915   \n",
              "497                                Red Dragon          6.7       1115   \n",
              "498                                   Hidalgo          6.5        318   \n",
              "499                             Jack and Jill          4.1        604   \n",
              "\n",
              "                                                  cast  \\\n",
              "0    Sam Worthington Zoe Saldana Sigourney Weaver S...   \n",
              "1    Johnny Depp Orlando Bloom Keira Knightley Stel...   \n",
              "2    Daniel Craig Christoph Waltz L\\u00e9a Seydoux ...   \n",
              "3    Christian Bale Michael Caine Gary Oldman Anne ...   \n",
              "4    Taylor Kitsch Lynn Collins Samantha Morton Wil...   \n",
              "..                                                 ...   \n",
              "495  Dwayne Johnson Josh Hutcherson Kristin Davis V...   \n",
              "496  Bill Hader Anna Faris James Caan Will Forte An...   \n",
              "497  Anthony Hopkins Edward Norton Ralph Fiennes Ha...   \n",
              "498  Viggo Mortensen Zuleikha Robinson Omar Sharif ...   \n",
              "499  Adam Sandler Katie Holmes Al Pacino Eugenio De...   \n",
              "\n",
              "                                                  crew           director  \n",
              "0    [{'name': 'Stephen E. Rivkin', 'gender': 0, 'd...      James Cameron  \n",
              "1    [{'name': 'Dariusz Wolski', 'gender': 2, 'depa...     Gore Verbinski  \n",
              "2    [{'name': 'Thomas Newman', 'gender': 2, 'depar...         Sam Mendes  \n",
              "3    [{'name': 'Hans Zimmer', 'gender': 2, 'departm...  Christopher Nolan  \n",
              "4    [{'name': 'Andrew Stanton', 'gender': 2, 'depa...     Andrew Stanton  \n",
              "..                                                 ...                ...  \n",
              "495  [{'name': 'Michael Bostick', 'gender': 2, 'dep...        Brad Peyton  \n",
              "496  [{'name': 'Mary Hidalgo', 'gender': 1, 'depart...       Cody Cameron  \n",
              "497  [{'name': 'Danny Elfman', 'gender': 2, 'depart...       Brett Ratner  \n",
              "498  [{'name': 'James Newton Howard', 'gender': 2, ...       Joe Johnston  \n",
              "499  [{'name': 'Dean Cundey', 'gender': 2, 'departm...       Dennis Dugan  \n",
              "\n",
              "[500 rows x 24 columns]"
            ],
            "text/html": [
              "\n",
              "  <div id=\"df-229c0793-d70c-4c76-9d95-4f85ed4b5a2a\" class=\"colab-df-container\">\n",
              "    <div>\n",
              "<style scoped>\n",
              "    .dataframe tbody tr th:only-of-type {\n",
              "        vertical-align: middle;\n",
              "    }\n",
              "\n",
              "    .dataframe tbody tr th {\n",
              "        vertical-align: top;\n",
              "    }\n",
              "\n",
              "    .dataframe thead th {\n",
              "        text-align: right;\n",
              "    }\n",
              "</style>\n",
              "<table border=\"1\" class=\"dataframe\">\n",
              "  <thead>\n",
              "    <tr style=\"text-align: right;\">\n",
              "      <th></th>\n",
              "      <th>index</th>\n",
              "      <th>budget</th>\n",
              "      <th>genres</th>\n",
              "      <th>homepage</th>\n",
              "      <th>id</th>\n",
              "      <th>keywords</th>\n",
              "      <th>original_language</th>\n",
              "      <th>original_title</th>\n",
              "      <th>overview</th>\n",
              "      <th>popularity</th>\n",
              "      <th>...</th>\n",
              "      <th>runtime</th>\n",
              "      <th>spoken_languages</th>\n",
              "      <th>status</th>\n",
              "      <th>tagline</th>\n",
              "      <th>title</th>\n",
              "      <th>vote_average</th>\n",
              "      <th>vote_count</th>\n",
              "      <th>cast</th>\n",
              "      <th>crew</th>\n",
              "      <th>director</th>\n",
              "    </tr>\n",
              "  </thead>\n",
              "  <tbody>\n",
              "    <tr>\n",
              "      <th>0</th>\n",
              "      <td>0</td>\n",
              "      <td>237000000</td>\n",
              "      <td>Action Adventure Fantasy Science Fiction</td>\n",
              "      <td>http://www.avatarmovie.com/</td>\n",
              "      <td>19995</td>\n",
              "      <td>culture clash future space war space colony so...</td>\n",
              "      <td>en</td>\n",
              "      <td>Avatar</td>\n",
              "      <td>In the 22nd century, a paraplegic Marine is di...</td>\n",
              "      <td>150.437577</td>\n",
              "      <td>...</td>\n",
              "      <td>162.0</td>\n",
              "      <td>[{\"iso_639_1\": \"en\", \"name\": \"English\"}, {\"iso...</td>\n",
              "      <td>Released</td>\n",
              "      <td>Enter the World of Pandora.</td>\n",
              "      <td>Avatar</td>\n",
              "      <td>7.2</td>\n",
              "      <td>11800</td>\n",
              "      <td>Sam Worthington Zoe Saldana Sigourney Weaver S...</td>\n",
              "      <td>[{'name': 'Stephen E. Rivkin', 'gender': 0, 'd...</td>\n",
              "      <td>James Cameron</td>\n",
              "    </tr>\n",
              "    <tr>\n",
              "      <th>1</th>\n",
              "      <td>1</td>\n",
              "      <td>300000000</td>\n",
              "      <td>Adventure Fantasy Action</td>\n",
              "      <td>http://disney.go.com/disneypictures/pirates/</td>\n",
              "      <td>285</td>\n",
              "      <td>ocean drug abuse exotic island east india trad...</td>\n",
              "      <td>en</td>\n",
              "      <td>Pirates of the Caribbean: At World's End</td>\n",
              "      <td>Captain Barbossa, long believed to be dead, ha...</td>\n",
              "      <td>139.082615</td>\n",
              "      <td>...</td>\n",
              "      <td>169.0</td>\n",
              "      <td>[{\"iso_639_1\": \"en\", \"name\": \"English\"}]</td>\n",
              "      <td>Released</td>\n",
              "      <td>At the end of the world, the adventure begins.</td>\n",
              "      <td>Pirates of the Caribbean: At World's End</td>\n",
              "      <td>6.9</td>\n",
              "      <td>4500</td>\n",
              "      <td>Johnny Depp Orlando Bloom Keira Knightley Stel...</td>\n",
              "      <td>[{'name': 'Dariusz Wolski', 'gender': 2, 'depa...</td>\n",
              "      <td>Gore Verbinski</td>\n",
              "    </tr>\n",
              "    <tr>\n",
              "      <th>2</th>\n",
              "      <td>2</td>\n",
              "      <td>245000000</td>\n",
              "      <td>Action Adventure Crime</td>\n",
              "      <td>http://www.sonypictures.com/movies/spectre/</td>\n",
              "      <td>206647</td>\n",
              "      <td>spy based on novel secret agent sequel mi6</td>\n",
              "      <td>en</td>\n",
              "      <td>Spectre</td>\n",
              "      <td>A cryptic message from Bond’s past sends him o...</td>\n",
              "      <td>107.376788</td>\n",
              "      <td>...</td>\n",
              "      <td>148.0</td>\n",
              "      <td>[{\"iso_639_1\": \"fr\", \"name\": \"Fran\\u00e7ais\"},...</td>\n",
              "      <td>Released</td>\n",
              "      <td>A Plan No One Escapes</td>\n",
              "      <td>Spectre</td>\n",
              "      <td>6.3</td>\n",
              "      <td>4466</td>\n",
              "      <td>Daniel Craig Christoph Waltz L\\u00e9a Seydoux ...</td>\n",
              "      <td>[{'name': 'Thomas Newman', 'gender': 2, 'depar...</td>\n",
              "      <td>Sam Mendes</td>\n",
              "    </tr>\n",
              "    <tr>\n",
              "      <th>3</th>\n",
              "      <td>3</td>\n",
              "      <td>250000000</td>\n",
              "      <td>Action Crime Drama Thriller</td>\n",
              "      <td>http://www.thedarkknightrises.com/</td>\n",
              "      <td>49026</td>\n",
              "      <td>dc comics crime fighter terrorist secret ident...</td>\n",
              "      <td>en</td>\n",
              "      <td>The Dark Knight Rises</td>\n",
              "      <td>Following the death of District Attorney Harve...</td>\n",
              "      <td>112.312950</td>\n",
              "      <td>...</td>\n",
              "      <td>165.0</td>\n",
              "      <td>[{\"iso_639_1\": \"en\", \"name\": \"English\"}]</td>\n",
              "      <td>Released</td>\n",
              "      <td>The Legend Ends</td>\n",
              "      <td>The Dark Knight Rises</td>\n",
              "      <td>7.6</td>\n",
              "      <td>9106</td>\n",
              "      <td>Christian Bale Michael Caine Gary Oldman Anne ...</td>\n",
              "      <td>[{'name': 'Hans Zimmer', 'gender': 2, 'departm...</td>\n",
              "      <td>Christopher Nolan</td>\n",
              "    </tr>\n",
              "    <tr>\n",
              "      <th>4</th>\n",
              "      <td>4</td>\n",
              "      <td>260000000</td>\n",
              "      <td>Action Adventure Science Fiction</td>\n",
              "      <td>http://movies.disney.com/john-carter</td>\n",
              "      <td>49529</td>\n",
              "      <td>based on novel mars medallion space travel pri...</td>\n",
              "      <td>en</td>\n",
              "      <td>John Carter</td>\n",
              "      <td>John Carter is a war-weary, former military ca...</td>\n",
              "      <td>43.926995</td>\n",
              "      <td>...</td>\n",
              "      <td>132.0</td>\n",
              "      <td>[{\"iso_639_1\": \"en\", \"name\": \"English\"}]</td>\n",
              "      <td>Released</td>\n",
              "      <td>Lost in our world, found in another.</td>\n",
              "      <td>John Carter</td>\n",
              "      <td>6.1</td>\n",
              "      <td>2124</td>\n",
              "      <td>Taylor Kitsch Lynn Collins Samantha Morton Wil...</td>\n",
              "      <td>[{'name': 'Andrew Stanton', 'gender': 2, 'depa...</td>\n",
              "      <td>Andrew Stanton</td>\n",
              "    </tr>\n",
              "    <tr>\n",
              "      <th>...</th>\n",
              "      <td>...</td>\n",
              "      <td>...</td>\n",
              "      <td>...</td>\n",
              "      <td>...</td>\n",
              "      <td>...</td>\n",
              "      <td>...</td>\n",
              "      <td>...</td>\n",
              "      <td>...</td>\n",
              "      <td>...</td>\n",
              "      <td>...</td>\n",
              "      <td>...</td>\n",
              "      <td>...</td>\n",
              "      <td>...</td>\n",
              "      <td>...</td>\n",
              "      <td>...</td>\n",
              "      <td>...</td>\n",
              "      <td>...</td>\n",
              "      <td>...</td>\n",
              "      <td>...</td>\n",
              "      <td>...</td>\n",
              "      <td>...</td>\n",
              "    </tr>\n",
              "    <tr>\n",
              "      <th>495</th>\n",
              "      <td>495</td>\n",
              "      <td>79000000</td>\n",
              "      <td>Adventure Action Science Fiction</td>\n",
              "      <td>http://www.themysteriousisland.com/</td>\n",
              "      <td>72545</td>\n",
              "      <td>mission mysterious island missing person durin...</td>\n",
              "      <td>en</td>\n",
              "      <td>Journey 2: The Mysterious Island</td>\n",
              "      <td>Sean Anderson partners with his mom's boyfrien...</td>\n",
              "      <td>40.723459</td>\n",
              "      <td>...</td>\n",
              "      <td>94.0</td>\n",
              "      <td>[{\"iso_639_1\": \"en\", \"name\": \"English\"}]</td>\n",
              "      <td>Released</td>\n",
              "      <td>Believe the Impossible. Discover the Incredible.</td>\n",
              "      <td>Journey 2: The Mysterious Island</td>\n",
              "      <td>5.8</td>\n",
              "      <td>1030</td>\n",
              "      <td>Dwayne Johnson Josh Hutcherson Kristin Davis V...</td>\n",
              "      <td>[{'name': 'Michael Bostick', 'gender': 2, 'dep...</td>\n",
              "      <td>Brad Peyton</td>\n",
              "    </tr>\n",
              "    <tr>\n",
              "      <th>496</th>\n",
              "      <td>496</td>\n",
              "      <td>78000000</td>\n",
              "      <td>Animation Family Comedy</td>\n",
              "      <td>NaN</td>\n",
              "      <td>109451</td>\n",
              "      <td>inventor food scientist</td>\n",
              "      <td>en</td>\n",
              "      <td>Cloudy with a Chance of Meatballs 2</td>\n",
              "      <td>After the disastrous food storm in the first f...</td>\n",
              "      <td>41.247402</td>\n",
              "      <td>...</td>\n",
              "      <td>95.0</td>\n",
              "      <td>[{\"iso_639_1\": \"en\", \"name\": \"English\"}]</td>\n",
              "      <td>Released</td>\n",
              "      <td>Something big was leftover.</td>\n",
              "      <td>Cloudy with a Chance of Meatballs 2</td>\n",
              "      <td>6.4</td>\n",
              "      <td>915</td>\n",
              "      <td>Bill Hader Anna Faris James Caan Will Forte An...</td>\n",
              "      <td>[{'name': 'Mary Hidalgo', 'gender': 1, 'depart...</td>\n",
              "      <td>Cody Cameron</td>\n",
              "    </tr>\n",
              "    <tr>\n",
              "      <th>497</th>\n",
              "      <td>497</td>\n",
              "      <td>78000000</td>\n",
              "      <td>Crime Thriller Horror</td>\n",
              "      <td>NaN</td>\n",
              "      <td>9533</td>\n",
              "      <td>psychopath serial killer fbi agent</td>\n",
              "      <td>en</td>\n",
              "      <td>Red Dragon</td>\n",
              "      <td>Former FBI Agent Will Graham, who was once alm...</td>\n",
              "      <td>10.083905</td>\n",
              "      <td>...</td>\n",
              "      <td>124.0</td>\n",
              "      <td>[{\"iso_639_1\": \"en\", \"name\": \"English\"}]</td>\n",
              "      <td>Released</td>\n",
              "      <td>Before the Silence.</td>\n",
              "      <td>Red Dragon</td>\n",
              "      <td>6.7</td>\n",
              "      <td>1115</td>\n",
              "      <td>Anthony Hopkins Edward Norton Ralph Fiennes Ha...</td>\n",
              "      <td>[{'name': 'Danny Elfman', 'gender': 2, 'depart...</td>\n",
              "      <td>Brett Ratner</td>\n",
              "    </tr>\n",
              "    <tr>\n",
              "      <th>498</th>\n",
              "      <td>498</td>\n",
              "      <td>100000000</td>\n",
              "      <td>Western Adventure</td>\n",
              "      <td>NaN</td>\n",
              "      <td>2023</td>\n",
              "      <td>horse race horse racehorse</td>\n",
              "      <td>en</td>\n",
              "      <td>Hidalgo</td>\n",
              "      <td>Set in 1890, this is the story of a Pony Expre...</td>\n",
              "      <td>16.759252</td>\n",
              "      <td>...</td>\n",
              "      <td>136.0</td>\n",
              "      <td>[{\"iso_639_1\": \"en\", \"name\": \"English\"}]</td>\n",
              "      <td>Released</td>\n",
              "      <td>Unbridled. Unbroken. Unbeaten.</td>\n",
              "      <td>Hidalgo</td>\n",
              "      <td>6.5</td>\n",
              "      <td>318</td>\n",
              "      <td>Viggo Mortensen Zuleikha Robinson Omar Sharif ...</td>\n",
              "      <td>[{'name': 'James Newton Howard', 'gender': 2, ...</td>\n",
              "      <td>Joe Johnston</td>\n",
              "    </tr>\n",
              "    <tr>\n",
              "      <th>499</th>\n",
              "      <td>499</td>\n",
              "      <td>79000000</td>\n",
              "      <td>Comedy</td>\n",
              "      <td>http://www.jackandjill-movie.com/</td>\n",
              "      <td>71880</td>\n",
              "      <td>duringcreditsstinger</td>\n",
              "      <td>en</td>\n",
              "      <td>Jack and Jill</td>\n",
              "      <td>Jack Sadelstein, a successful advertising exec...</td>\n",
              "      <td>22.132418</td>\n",
              "      <td>...</td>\n",
              "      <td>91.0</td>\n",
              "      <td>[{\"iso_639_1\": \"en\", \"name\": \"English\"}]</td>\n",
              "      <td>Released</td>\n",
              "      <td>His twin sister is coming for the holidays... ...</td>\n",
              "      <td>Jack and Jill</td>\n",
              "      <td>4.1</td>\n",
              "      <td>604</td>\n",
              "      <td>Adam Sandler Katie Holmes Al Pacino Eugenio De...</td>\n",
              "      <td>[{'name': 'Dean Cundey', 'gender': 2, 'departm...</td>\n",
              "      <td>Dennis Dugan</td>\n",
              "    </tr>\n",
              "  </tbody>\n",
              "</table>\n",
              "<p>500 rows × 24 columns</p>\n",
              "</div>\n",
              "    <div class=\"colab-df-buttons\">\n",
              "\n",
              "  <div class=\"colab-df-container\">\n",
              "    <button class=\"colab-df-convert\" onclick=\"convertToInteractive('df-229c0793-d70c-4c76-9d95-4f85ed4b5a2a')\"\n",
              "            title=\"Convert this dataframe to an interactive table.\"\n",
              "            style=\"display:none;\">\n",
              "\n",
              "  <svg xmlns=\"http://www.w3.org/2000/svg\" height=\"24px\" viewBox=\"0 -960 960 960\">\n",
              "    <path d=\"M120-120v-720h720v720H120Zm60-500h600v-160H180v160Zm220 220h160v-160H400v160Zm0 220h160v-160H400v160ZM180-400h160v-160H180v160Zm440 0h160v-160H620v160ZM180-180h160v-160H180v160Zm440 0h160v-160H620v160Z\"/>\n",
              "  </svg>\n",
              "    </button>\n",
              "\n",
              "  <style>\n",
              "    .colab-df-container {\n",
              "      display:flex;\n",
              "      gap: 12px;\n",
              "    }\n",
              "\n",
              "    .colab-df-convert {\n",
              "      background-color: #E8F0FE;\n",
              "      border: none;\n",
              "      border-radius: 50%;\n",
              "      cursor: pointer;\n",
              "      display: none;\n",
              "      fill: #1967D2;\n",
              "      height: 32px;\n",
              "      padding: 0 0 0 0;\n",
              "      width: 32px;\n",
              "    }\n",
              "\n",
              "    .colab-df-convert:hover {\n",
              "      background-color: #E2EBFA;\n",
              "      box-shadow: 0px 1px 2px rgba(60, 64, 67, 0.3), 0px 1px 3px 1px rgba(60, 64, 67, 0.15);\n",
              "      fill: #174EA6;\n",
              "    }\n",
              "\n",
              "    .colab-df-buttons div {\n",
              "      margin-bottom: 4px;\n",
              "    }\n",
              "\n",
              "    [theme=dark] .colab-df-convert {\n",
              "      background-color: #3B4455;\n",
              "      fill: #D2E3FC;\n",
              "    }\n",
              "\n",
              "    [theme=dark] .colab-df-convert:hover {\n",
              "      background-color: #434B5C;\n",
              "      box-shadow: 0px 1px 3px 1px rgba(0, 0, 0, 0.15);\n",
              "      filter: drop-shadow(0px 1px 2px rgba(0, 0, 0, 0.3));\n",
              "      fill: #FFFFFF;\n",
              "    }\n",
              "  </style>\n",
              "\n",
              "    <script>\n",
              "      const buttonEl =\n",
              "        document.querySelector('#df-229c0793-d70c-4c76-9d95-4f85ed4b5a2a button.colab-df-convert');\n",
              "      buttonEl.style.display =\n",
              "        google.colab.kernel.accessAllowed ? 'block' : 'none';\n",
              "\n",
              "      async function convertToInteractive(key) {\n",
              "        const element = document.querySelector('#df-229c0793-d70c-4c76-9d95-4f85ed4b5a2a');\n",
              "        const dataTable =\n",
              "          await google.colab.kernel.invokeFunction('convertToInteractive',\n",
              "                                                    [key], {});\n",
              "        if (!dataTable) return;\n",
              "\n",
              "        const docLinkHtml = 'Like what you see? Visit the ' +\n",
              "          '<a target=\"_blank\" href=https://colab.research.google.com/notebooks/data_table.ipynb>data table notebook</a>'\n",
              "          + ' to learn more about interactive tables.';\n",
              "        element.innerHTML = '';\n",
              "        dataTable['output_type'] = 'display_data';\n",
              "        await google.colab.output.renderOutput(dataTable, element);\n",
              "        const docLink = document.createElement('div');\n",
              "        docLink.innerHTML = docLinkHtml;\n",
              "        element.appendChild(docLink);\n",
              "      }\n",
              "    </script>\n",
              "  </div>\n",
              "\n",
              "\n",
              "<div id=\"df-83d9a331-57a0-4f12-b49b-ba64e1fa09a4\">\n",
              "  <button class=\"colab-df-quickchart\" onclick=\"quickchart('df-83d9a331-57a0-4f12-b49b-ba64e1fa09a4')\"\n",
              "            title=\"Suggest charts.\"\n",
              "            style=\"display:none;\">\n",
              "\n",
              "<svg xmlns=\"http://www.w3.org/2000/svg\" height=\"24px\"viewBox=\"0 0 24 24\"\n",
              "     width=\"24px\">\n",
              "    <g>\n",
              "        <path d=\"M19 3H5c-1.1 0-2 .9-2 2v14c0 1.1.9 2 2 2h14c1.1 0 2-.9 2-2V5c0-1.1-.9-2-2-2zM9 17H7v-7h2v7zm4 0h-2V7h2v10zm4 0h-2v-4h2v4z\"/>\n",
              "    </g>\n",
              "</svg>\n",
              "  </button>\n",
              "\n",
              "<style>\n",
              "  .colab-df-quickchart {\n",
              "      --bg-color: #E8F0FE;\n",
              "      --fill-color: #1967D2;\n",
              "      --hover-bg-color: #E2EBFA;\n",
              "      --hover-fill-color: #174EA6;\n",
              "      --disabled-fill-color: #AAA;\n",
              "      --disabled-bg-color: #DDD;\n",
              "  }\n",
              "\n",
              "  [theme=dark] .colab-df-quickchart {\n",
              "      --bg-color: #3B4455;\n",
              "      --fill-color: #D2E3FC;\n",
              "      --hover-bg-color: #434B5C;\n",
              "      --hover-fill-color: #FFFFFF;\n",
              "      --disabled-bg-color: #3B4455;\n",
              "      --disabled-fill-color: #666;\n",
              "  }\n",
              "\n",
              "  .colab-df-quickchart {\n",
              "    background-color: var(--bg-color);\n",
              "    border: none;\n",
              "    border-radius: 50%;\n",
              "    cursor: pointer;\n",
              "    display: none;\n",
              "    fill: var(--fill-color);\n",
              "    height: 32px;\n",
              "    padding: 0;\n",
              "    width: 32px;\n",
              "  }\n",
              "\n",
              "  .colab-df-quickchart:hover {\n",
              "    background-color: var(--hover-bg-color);\n",
              "    box-shadow: 0 1px 2px rgba(60, 64, 67, 0.3), 0 1px 3px 1px rgba(60, 64, 67, 0.15);\n",
              "    fill: var(--button-hover-fill-color);\n",
              "  }\n",
              "\n",
              "  .colab-df-quickchart-complete:disabled,\n",
              "  .colab-df-quickchart-complete:disabled:hover {\n",
              "    background-color: var(--disabled-bg-color);\n",
              "    fill: var(--disabled-fill-color);\n",
              "    box-shadow: none;\n",
              "  }\n",
              "\n",
              "  .colab-df-spinner {\n",
              "    border: 2px solid var(--fill-color);\n",
              "    border-color: transparent;\n",
              "    border-bottom-color: var(--fill-color);\n",
              "    animation:\n",
              "      spin 1s steps(1) infinite;\n",
              "  }\n",
              "\n",
              "  @keyframes spin {\n",
              "    0% {\n",
              "      border-color: transparent;\n",
              "      border-bottom-color: var(--fill-color);\n",
              "      border-left-color: var(--fill-color);\n",
              "    }\n",
              "    20% {\n",
              "      border-color: transparent;\n",
              "      border-left-color: var(--fill-color);\n",
              "      border-top-color: var(--fill-color);\n",
              "    }\n",
              "    30% {\n",
              "      border-color: transparent;\n",
              "      border-left-color: var(--fill-color);\n",
              "      border-top-color: var(--fill-color);\n",
              "      border-right-color: var(--fill-color);\n",
              "    }\n",
              "    40% {\n",
              "      border-color: transparent;\n",
              "      border-right-color: var(--fill-color);\n",
              "      border-top-color: var(--fill-color);\n",
              "    }\n",
              "    60% {\n",
              "      border-color: transparent;\n",
              "      border-right-color: var(--fill-color);\n",
              "    }\n",
              "    80% {\n",
              "      border-color: transparent;\n",
              "      border-right-color: var(--fill-color);\n",
              "      border-bottom-color: var(--fill-color);\n",
              "    }\n",
              "    90% {\n",
              "      border-color: transparent;\n",
              "      border-bottom-color: var(--fill-color);\n",
              "    }\n",
              "  }\n",
              "</style>\n",
              "\n",
              "  <script>\n",
              "    async function quickchart(key) {\n",
              "      const quickchartButtonEl =\n",
              "        document.querySelector('#' + key + ' button');\n",
              "      quickchartButtonEl.disabled = true;  // To prevent multiple clicks.\n",
              "      quickchartButtonEl.classList.add('colab-df-spinner');\n",
              "      try {\n",
              "        const charts = await google.colab.kernel.invokeFunction(\n",
              "            'suggestCharts', [key], {});\n",
              "      } catch (error) {\n",
              "        console.error('Error during call to suggestCharts:', error);\n",
              "      }\n",
              "      quickchartButtonEl.classList.remove('colab-df-spinner');\n",
              "      quickchartButtonEl.classList.add('colab-df-quickchart-complete');\n",
              "    }\n",
              "    (() => {\n",
              "      let quickchartButtonEl =\n",
              "        document.querySelector('#df-83d9a331-57a0-4f12-b49b-ba64e1fa09a4 button');\n",
              "      quickchartButtonEl.style.display =\n",
              "        google.colab.kernel.accessAllowed ? 'block' : 'none';\n",
              "    })();\n",
              "  </script>\n",
              "</div>\n",
              "    </div>\n",
              "  </div>\n"
            ]
          },
          "metadata": {},
          "execution_count": 9
        }
      ],
      "source": [
        "\n",
        "movies_data.head(500)"
      ]
    },
    {
      "cell_type": "code",
      "execution_count": null,
      "metadata": {
        "colab": {
          "base_uri": "https://localhost:8080/"
        },
        "id": "Qrtr0oQbIjwF",
        "outputId": "f223491a-1f39-4588-8ff6-4726f1ce7b06"
      },
      "outputs": [
        {
          "output_type": "execute_result",
          "data": {
            "text/plain": [
              "(4803, 24)"
            ]
          },
          "metadata": {},
          "execution_count": 10
        }
      ],
      "source": [
        "\n",
        "\n",
        "movies_data.shape"
      ]
    },
    {
      "cell_type": "code",
      "execution_count": null,
      "metadata": {
        "colab": {
          "base_uri": "https://localhost:8080/"
        },
        "id": "hunvyruUJhVq",
        "outputId": "0f7d2179-d819-4ce2-8a04-c564fa167131"
      },
      "outputs": [
        {
          "output_type": "stream",
          "name": "stdout",
          "text": [
            "['genres', 'keywords', 'tagline', 'cast', 'director']\n"
          ]
        }
      ],
      "source": [
        "\n",
        "\n",
        "selected_features = ['genres','keywords','tagline','cast','director']\n",
        "print(selected_features)"
      ]
    },
    {
      "cell_type": "code",
      "execution_count": null,
      "metadata": {
        "id": "CKIVE6OWKSYk"
      },
      "outputs": [],
      "source": [
        "\n",
        "\n",
        "for feature in selected_features:\n",
        "  movies_data[feature] = movies_data[feature].fillna('')"
      ]
    },
    {
      "cell_type": "code",
      "execution_count": null,
      "metadata": {
        "id": "-AMjrRItLCO1"
      },
      "outputs": [],
      "source": [
        "\n",
        "\n",
        "combined_features = movies_data['genres']+' '+movies_data['keywords']+' '+movies_data['tagline']+' '+movies_data['cast']+' '+movies_data['director']"
      ]
    },
    {
      "cell_type": "code",
      "execution_count": null,
      "metadata": {
        "colab": {
          "base_uri": "https://localhost:8080/"
        },
        "id": "ZYjFXx3aLwTh",
        "outputId": "e5f3a624-f9ce-427e-acf6-8b3bbdf0e021"
      },
      "outputs": [
        {
          "output_type": "stream",
          "name": "stdout",
          "text": [
            "0       Action Adventure Fantasy Science Fiction cultu...\n",
            "1       Adventure Fantasy Action ocean drug abuse exot...\n",
            "2       Action Adventure Crime spy based on novel secr...\n",
            "3       Action Crime Drama Thriller dc comics crime fi...\n",
            "4       Action Adventure Science Fiction based on nove...\n",
            "                              ...                        \n",
            "4798    Action Crime Thriller united states\\u2013mexic...\n",
            "4799    Comedy Romance  A newlywed couple's honeymoon ...\n",
            "4800    Comedy Drama Romance TV Movie date love at fir...\n",
            "4801      A New Yorker in Shanghai Daniel Henney Eliza...\n",
            "4802    Documentary obsession camcorder crush dream gi...\n",
            "Length: 4803, dtype: object\n"
          ]
        }
      ],
      "source": [
        "print(combined_features)"
      ]
    },
    {
      "cell_type": "code",
      "execution_count": null,
      "metadata": {
        "id": "BfuttC_gLyfF"
      },
      "outputs": [],
      "source": [
        "\n",
        "\n",
        "vectorizer = TfidfVectorizer()"
      ]
    },
    {
      "cell_type": "code",
      "execution_count": null,
      "metadata": {
        "id": "Leo5rQskMKxL"
      },
      "outputs": [],
      "source": [
        "feature_vectors = vectorizer.fit_transform(combined_features)"
      ]
    },
    {
      "cell_type": "code",
      "execution_count": null,
      "metadata": {
        "colab": {
          "base_uri": "https://localhost:8080/"
        },
        "id": "qNbeeMSnMb2F",
        "outputId": "3a4017a5-9a52-4da2-ccab-727393b8fa4f"
      },
      "outputs": [
        {
          "output_type": "stream",
          "name": "stdout",
          "text": [
            "  (0, 2432)\t0.17272411194153\n",
            "  (0, 7755)\t0.1128035714854756\n",
            "  (0, 13024)\t0.1942362060108871\n",
            "  (0, 10229)\t0.16058685400095302\n",
            "  (0, 8756)\t0.22709015857011816\n",
            "  (0, 14608)\t0.15150672398763912\n",
            "  (0, 16668)\t0.19843263965100372\n",
            "  (0, 14064)\t0.20596090415084142\n",
            "  (0, 13319)\t0.2177470539412484\n",
            "  (0, 17290)\t0.20197912553916567\n",
            "  (0, 17007)\t0.23643326319898797\n",
            "  (0, 13349)\t0.15021264094167086\n",
            "  (0, 11503)\t0.27211310056983656\n",
            "  (0, 11192)\t0.09049319826481456\n",
            "  (0, 16998)\t0.1282126322850579\n",
            "  (0, 15261)\t0.07095833561276566\n",
            "  (0, 4945)\t0.24025852494110758\n",
            "  (0, 14271)\t0.21392179219912877\n",
            "  (0, 3225)\t0.24960162956997736\n",
            "  (0, 16587)\t0.12549432354918996\n",
            "  (0, 14378)\t0.33962752210959823\n",
            "  (0, 5836)\t0.1646750903586285\n",
            "  (0, 3065)\t0.22208377802661425\n",
            "  (0, 3678)\t0.21392179219912877\n",
            "  (0, 5437)\t0.1036413987316636\n",
            "  :\t:\n",
            "  (4801, 17266)\t0.2886098184932947\n",
            "  (4801, 4835)\t0.24713765026963996\n",
            "  (4801, 403)\t0.17727585190343226\n",
            "  (4801, 6935)\t0.2886098184932947\n",
            "  (4801, 11663)\t0.21557500762727902\n",
            "  (4801, 1672)\t0.1564793427630879\n",
            "  (4801, 10929)\t0.13504166990041588\n",
            "  (4801, 7474)\t0.11307961713172225\n",
            "  (4801, 3796)\t0.3342808988877418\n",
            "  (4802, 6996)\t0.5700048226105303\n",
            "  (4802, 5367)\t0.22969114490410403\n",
            "  (4802, 3654)\t0.262512960498006\n",
            "  (4802, 2425)\t0.24002350969074696\n",
            "  (4802, 4608)\t0.24002350969074696\n",
            "  (4802, 6417)\t0.21753405888348784\n",
            "  (4802, 4371)\t0.1538239182675544\n",
            "  (4802, 12989)\t0.1696476532191718\n",
            "  (4802, 1316)\t0.1960747079005741\n",
            "  (4802, 4528)\t0.19504460807622875\n",
            "  (4802, 3436)\t0.21753405888348784\n",
            "  (4802, 6155)\t0.18056463596934083\n",
            "  (4802, 4980)\t0.16078053641367315\n",
            "  (4802, 2129)\t0.3099656128577656\n",
            "  (4802, 4518)\t0.16784466610624255\n",
            "  (4802, 11161)\t0.17867407682173203\n"
          ]
        }
      ],
      "source": [
        "print(feature_vectors)"
      ]
    },
    {
      "cell_type": "markdown",
      "metadata": {
        "id": "qEGga5yPMnXO"
      },
      "source": [
        "Cosine Similarity"
      ]
    },
    {
      "cell_type": "code",
      "execution_count": null,
      "metadata": {
        "id": "MsKYCs31MeB6"
      },
      "outputs": [],
      "source": [
        "\n",
        "\n",
        "similarity = cosine_similarity(feature_vectors)"
      ]
    },
    {
      "cell_type": "code",
      "execution_count": null,
      "metadata": {
        "colab": {
          "base_uri": "https://localhost:8080/"
        },
        "id": "46ha1PfTM-oQ",
        "outputId": "35a4fbb6-8d7e-48b0-ce68-d392aecea330"
      },
      "outputs": [
        {
          "output_type": "stream",
          "name": "stdout",
          "text": [
            "[[1.         0.07219487 0.037733   ... 0.         0.         0.        ]\n",
            " [0.07219487 1.         0.03281499 ... 0.03575545 0.         0.        ]\n",
            " [0.037733   0.03281499 1.         ... 0.         0.05389661 0.        ]\n",
            " ...\n",
            " [0.         0.03575545 0.         ... 1.         0.         0.02651502]\n",
            " [0.         0.         0.05389661 ... 0.         1.         0.        ]\n",
            " [0.         0.         0.         ... 0.02651502 0.         1.        ]]\n"
          ]
        }
      ],
      "source": [
        "print(similarity)"
      ]
    },
    {
      "cell_type": "code",
      "execution_count": null,
      "metadata": {
        "colab": {
          "base_uri": "https://localhost:8080/"
        },
        "id": "PLkvII-wM_5I",
        "outputId": "8e547f67-4464-4181-f849-29fa421b61cf"
      },
      "outputs": [
        {
          "output_type": "stream",
          "name": "stdout",
          "text": [
            "(4803, 4803)\n"
          ]
        }
      ],
      "source": [
        "print(similarity.shape)"
      ]
    },
    {
      "cell_type": "markdown",
      "metadata": {
        "id": "EG3JItMUWeDD"
      },
      "source": [
        "Getting the movie name from the user"
      ]
    },
    {
      "cell_type": "code",
      "execution_count": null,
      "metadata": {
        "id": "bhSWJgqgNDo7"
      },
      "outputs": [],
      "source": [
        "\n",
        "\n",
        "\n",
        "movie_name = input(' Enter your favourite movie name : ')"
      ]
    },
    {
      "cell_type": "code",
      "execution_count": null,
      "metadata": {
        "id": "VQ8Qvu8vNj4U"
      },
      "outputs": [],
      "source": [
        "\n",
        "\n",
        "list_of_all_titles = movies_data['title'].tolist()\n",
        "print(list_of_all_titles)"
      ]
    },
    {
      "cell_type": "code",
      "execution_count": null,
      "metadata": {
        "id": "u1HTkBLIOBjf"
      },
      "outputs": [],
      "source": [
        "\n",
        "\n",
        "find_close_match = difflib.get_close_matches(movie_name, list_of_all_titles)\n",
        "print(find_close_match)"
      ]
    },
    {
      "cell_type": "code",
      "execution_count": null,
      "metadata": {
        "id": "CgiC-enuOfXx"
      },
      "outputs": [],
      "source": [
        "close_match = find_close_match[0]\n",
        "print(close_match)"
      ]
    },
    {
      "cell_type": "code",
      "execution_count": null,
      "metadata": {
        "id": "CNXJfY-FOw1I"
      },
      "outputs": [],
      "source": [
        "\n",
        "\n",
        "index_of_the_movie = movies_data[movies_data.title == close_match]['index'].values[0]\n",
        "print(index_of_the_movie)"
      ]
    },
    {
      "cell_type": "code",
      "execution_count": null,
      "metadata": {
        "id": "dyUeQZpvPbkx"
      },
      "outputs": [],
      "source": [
        "\n",
        "\n",
        "similarity_score = list(enumerate(similarity[index_of_the_movie]))\n",
        "print(similarity_score)"
      ]
    },
    {
      "cell_type": "code",
      "execution_count": null,
      "metadata": {
        "id": "mMrxw-leQNtP"
      },
      "outputs": [],
      "source": [
        "len(similarity_score)"
      ]
    },
    {
      "cell_type": "code",
      "execution_count": null,
      "metadata": {
        "id": "SkXgFLePQkHL"
      },
      "outputs": [],
      "source": [
        "\n",
        "\n",
        "sorted_similar_movies = sorted(similarity_score, key = lambda x:x[1], reverse = True)\n",
        "print(sorted_similar_movies)"
      ]
    },
    {
      "cell_type": "code",
      "execution_count": null,
      "metadata": {
        "id": "JseMqew-RW6Q"
      },
      "outputs": [],
      "source": [
        "\n",
        "\n",
        "print('Movies suggested for you : \\n')\n",
        "\n",
        "i = 1\n",
        "\n",
        "for movie in sorted_similar_movies:\n",
        "  index = movie[0]\n",
        "  title_from_index = movies_data[movies_data.index==index]['title'].values[0]\n",
        "  if (i<30):\n",
        "    print(i, '.',title_from_index)\n",
        "    i+=1"
      ]
    },
    {
      "cell_type": "markdown",
      "metadata": {
        "id": "KmXULXO9TZun"
      },
      "source": [
        "Movie Recommendation Sytem"
      ]
    },
    {
      "cell_type": "code",
      "execution_count": null,
      "metadata": {
        "id": "QUDZfTSxTHDf"
      },
      "outputs": [],
      "source": [
        "movie_name = input(' Enter your favourite movie name : ')\n",
        "\n",
        "list_of_all_titles = movies_data['title'].tolist()\n",
        "\n",
        "find_close_match = difflib.get_close_matches(movie_name, list_of_all_titles)\n",
        "\n",
        "close_match = find_close_match[0]\n",
        "\n",
        "index_of_the_movie = movies_data[movies_data.title == close_match]['index'].values[0]\n",
        "\n",
        "similarity_score = list(enumerate(similarity[index_of_the_movie]))\n",
        "\n",
        "sorted_similar_movies = sorted(similarity_score, key = lambda x:x[1], reverse = True)\n",
        "\n",
        "print('Movies suggested for you : \\n')\n",
        "\n",
        "i = 1\n",
        "\n",
        "for movie in sorted_similar_movies:\n",
        "  index = movie[0]\n",
        "  title_from_index = movies_data[movies_data.index==index]['title'].values[0]\n",
        "  if (i<30):\n",
        "    print(i, '.',title_from_index)\n",
        "    i+=1"
      ]
    }
  ],
  "metadata": {
    "colab": {
      "provenance": [],
      "include_colab_link": true
    },
    "kernelspec": {
      "display_name": "Python 3",
      "name": "python3"
    },
    "language_info": {
      "name": "python"
    }
  },
  "nbformat": 4,
  "nbformat_minor": 0
}